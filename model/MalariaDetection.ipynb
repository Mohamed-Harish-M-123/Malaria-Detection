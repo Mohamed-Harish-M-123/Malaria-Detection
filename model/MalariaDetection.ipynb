{
 "cells": [
  {
   "cell_type": "code",
   "execution_count": 18,
   "id": "31eec970-44b7-495b-a38b-674ce262dd39",
   "metadata": {},
   "outputs": [],
   "source": [
    "# Importing the required libraries\n",
    "\n",
    "import os\n",
    "from os import listdir\n",
    "import random\n",
    "import shutil\n",
    "from utils import *\n",
    "import numpy as np\n",
    "import pandas as pd\n",
    "import matplotlib.pyplot as plt\n",
    "#from google.colab import drive\n",
    "from sklearn.model_selection import train_test_split\n",
    "import tensorflow as tf\n",
    "from tensorflow.keras.applications import ResNet50\n",
    "from tensorflow.keras.layers import MaxPooling2D\n",
    "from tensorflow.keras.layers import Dense, GlobalAveragePooling2D\n",
    "from tensorflow.keras.models import Model\n",
    "from tensorflow.keras.models import load_model\n",
    "from tensorflow.keras.optimizers import Adam\n",
    "from tensorflow.keras.preprocessing.image import ImageDataGenerator"
   ]
  },
  {
   "cell_type": "code",
   "execution_count": 8,
   "id": "6c367968-db6a-4fc6-a699-c3130c6148a4",
   "metadata": {},
   "outputs": [
    {
     "name": "stdout",
     "output_type": "stream",
     "text": [
      "Training set: 16534 samples\n",
      "Validation set: 5512 samples\n",
      "Test set: 5512 samples\n"
     ]
    }
   ],
   "source": [
    "uninfected = 'D:/archive/cell_images/Uninfected'\n",
    "parasitized = 'D:/archive/cell_images/Parasitized'\n",
    "\n",
    "# Create list to store the image path and label\n",
    "\n",
    "data = []\n",
    "label = []\n",
    "\n",
    "for filename in os.listdir(parasitized):\n",
    "  if filename.endswith('.png'):\n",
    "    filepath = os.path.join(parasitized, filename)\n",
    "    data.append(filepath)\n",
    "    label.append(1)  # Label 1 for affected cells\n",
    "\n",
    "for filename in os.listdir(uninfected):\n",
    "  if filename.endswith('.png'):\n",
    "    filepath = os.path.join(uninfected, filename)\n",
    "    data.append(filepath)\n",
    "    label.append(0)  # Label 0 for unaffected cells\n",
    "np.random.shuffle(data)\n",
    "'''\n",
    "resized_images = []\n",
    "img_size = [224,224]\n",
    "for img_path in data:\n",
    "  img = cv2.imread(img_path)\n",
    "  img = cv2.resize(img, img_size)  # Resize the image\n",
    "  resized_images.append(img)\n",
    "'''\n",
    "# Split data into training, validation, and test sets\n",
    "train_images, test_images, train_labels, test_labels = train_test_split(data, label, test_size=0.2, random_state=42)\n",
    "train_images, val_images, train_labels, val_labels = train_test_split(train_images, train_labels, test_size=0.25, random_state=42)  # 0.25 x 0.8 = 0.2 for validation\n",
    "\n",
    "# Print the lengths of each set for verification\n",
    "print(f\"Training set: {len(train_images)} samples\")\n",
    "print(f\"Validation set: {len(val_images)} samples\")\n",
    "print(f\"Test set: {len(test_images)} samples\")\n",
    "\n",
    "\n",
    "\n",
    "# Split the data into training and test sets (80% training, 20% test)\n",
    "#train_data, test_data, train_labels, test_labels = train_test_split(data,\n",
    "#                                                                    label,\n",
    "#                                                                    test_size=0.2,\n",
    "#                                                                    random_state=42)\n"
   ]
  },
  {
   "cell_type": "code",
   "execution_count": 9,
   "id": "84bf15a6-9cea-464e-a136-bb3c07d3309a",
   "metadata": {},
   "outputs": [
    {
     "name": "stdout",
     "output_type": "stream",
     "text": [
      "D:/archive/cell_images/Parasitized\\C59P20thinF_IMG_20150803_113809_cell_41.png\n"
     ]
    }
   ],
   "source": [
    "print(train_images[2])"
   ]
  },
  {
   "cell_type": "code",
   "execution_count": 10,
   "id": "7f796d80-8121-4579-8dbc-5faa0ff50d16",
   "metadata": {},
   "outputs": [],
   "source": [
    "def move_images_to_directory(image_list, destination_folder):\n",
    "    # Create the destination folder if it doesn't exist\n",
    "    if not os.path.exists(destination_folder):\n",
    "        os.makedirs(destination_folder)\n",
    "\n",
    "    # Move images to the destination folder\n",
    "    for image_path in image_list:\n",
    "        filename = os.path.basename(image_path)\n",
    "        destination_path = os.path.join(destination_folder, filename)\n",
    "        shutil.copy(image_path, destination_path)\n",
    "\n",
    "# Replace 'path/to/' with your desired directory paths\n",
    "train_folder = 'D:/archive/cell_images/train/train1'\n",
    "val_folder = 'D:/archive/cell_images/val/val1'\n",
    "test_folder = 'D:/archive/cell_images/test/test1'\n",
    "\n",
    "# Move images to their respective directories\n",
    "move_images_to_directory(train_images, train_folder)\n",
    "move_images_to_directory(val_images, val_folder)\n",
    "move_images_to_directory(test_images, test_folder)"
   ]
  },
  {
   "cell_type": "code",
   "execution_count": 11,
   "id": "e31c3e06-a51e-43dd-b6b2-08e3bc8d8e18",
   "metadata": {},
   "outputs": [
    {
     "name": "stdout",
     "output_type": "stream",
     "text": [
      "Found 16534 images belonging to 1 classes.\n",
      "Found 5512 images belonging to 1 classes.\n"
     ]
    }
   ],
   "source": [
    "train_rescale = ImageDataGenerator(rescale=1./255)  # Normalize pixel values\n",
    "val_rescale = ImageDataGenerator(rescale=1./255)\n",
    "\n",
    "train_generator = train_rescale.flow_from_directory(\n",
    "    'D:/archive/cell_images/train',\n",
    "    target_size=(224, 224),  # Resize images to fit ResNet50 input size\n",
    "    batch_size=32,\n",
    "    class_mode='binary'  # Adjust for your problem's class mode\n",
    ")\n",
    "\n",
    "val_generator = val_rescale.flow_from_directory(\n",
    "    'D:/archive/cell_images/val',\n",
    "    target_size=(224, 224),\n",
    "    batch_size=32,\n",
    "    class_mode='binary' \n",
    ")"
   ]
  },
  {
   "cell_type": "code",
   "execution_count": 12,
   "id": "c70678c9-9a6e-4ab4-afed-5d79d5154928",
   "metadata": {},
   "outputs": [
    {
     "name": "stdout",
     "output_type": "stream",
     "text": [
      "WARNING:tensorflow:From C:\\Users\\Win 10 Pro\\AppData\\Local\\Programs\\Python\\Python311\\Lib\\site-packages\\keras\\src\\backend.py:1398: The name tf.executing_eagerly_outside_functions is deprecated. Please use tf.compat.v1.executing_eagerly_outside_functions instead.\n",
      "\n",
      "WARNING:tensorflow:From C:\\Users\\Win 10 Pro\\AppData\\Local\\Programs\\Python\\Python311\\Lib\\site-packages\\keras\\src\\layers\\normalization\\batch_normalization.py:979: The name tf.nn.fused_batch_norm is deprecated. Please use tf.compat.v1.nn.fused_batch_norm instead.\n",
      "\n",
      "Downloading data from https://storage.googleapis.com/tensorflow/keras-applications/resnet/resnet50_weights_tf_dim_ordering_tf_kernels_notop.h5\n",
      "94765736/94765736 [==============================] - 13s 0us/step\n"
     ]
    }
   ],
   "source": [
    "resnet_model = ResNet50(weights='imagenet', include_top=False)  # Load pre-trained ResNet50 without the fully connected layers\n",
    "\n",
    "x = resnet_model.output\n",
    "x = GlobalAveragePooling2D()(x)\n",
    "x = Dense(100, activation='relu')(x)  # Add your own dense layers for classification\n",
    "predictions = Dense(1, activation='sigmoid')(x)\n",
    "\n",
    "model_resnet = Model(inputs=resnet_model.input, outputs=predictions)\n",
    "\n",
    "# Freeze pre-trained layers\n",
    "for layer in resnet_model.layers:\n",
    "    layer.trainable = False\n",
    "\n",
    "model_resnet.compile(optimizer=Adam(learning_rate=0.001), loss='binary_crossentropy', metrics=['accuracy'])  # Adjust loss and metrics"
   ]
  },
  {
   "cell_type": "code",
   "execution_count": 13,
   "id": "7e855923-59f6-4db9-a198-6463e4fd7926",
   "metadata": {},
   "outputs": [
    {
     "name": "stdout",
     "output_type": "stream",
     "text": [
      "Epoch 1/2\n",
      "WARNING:tensorflow:From C:\\Users\\Win 10 Pro\\AppData\\Local\\Programs\\Python\\Python311\\Lib\\site-packages\\keras\\src\\utils\\tf_utils.py:492: The name tf.ragged.RaggedTensorValue is deprecated. Please use tf.compat.v1.ragged.RaggedTensorValue instead.\n",
      "\n",
      "WARNING:tensorflow:From C:\\Users\\Win 10 Pro\\AppData\\Local\\Programs\\Python\\Python311\\Lib\\site-packages\\keras\\src\\engine\\base_layer_utils.py:384: The name tf.executing_eagerly_outside_functions is deprecated. Please use tf.compat.v1.executing_eagerly_outside_functions instead.\n",
      "\n",
      "517/517 [==============================] - 1597s 3s/step - loss: 0.0041 - accuracy: 0.9981 - val_loss: 8.5129e-09 - val_accuracy: 1.0000\n",
      "Epoch 2/2\n",
      "517/517 [==============================] - 1557s 3s/step - loss: 3.8075e-09 - accuracy: 1.0000 - val_loss: 1.7429e-09 - val_accuracy: 1.0000\n"
     ]
    }
   ],
   "source": [
    "train_resnet = model_resnet.fit(\n",
    "    train_generator,\n",
    "    steps_per_epoch=len(train_generator),\n",
    "    epochs=2,\n",
    "    validation_data=val_generator,\n",
    "    validation_steps=len(val_generator)\n",
    ")"
   ]
  },
  {
   "cell_type": "code",
   "execution_count": 14,
   "id": "42d441b0-964d-4843-87e5-de1f6e7a1ec6",
   "metadata": {},
   "outputs": [
    {
     "name": "stdout",
     "output_type": "stream",
     "text": [
      "Found 5512 images belonging to 1 classes.\n",
      "173/173 [==============================] - 400s 2s/step - loss: 1.7300e-09 - accuracy: 1.0000\n",
      "Test Loss: 1.729973275743646e-09\n",
      "Test Accuracy: 1.0\n"
     ]
    }
   ],
   "source": [
    "test_rescale = ImageDataGenerator(rescale=1./255)\n",
    "test_generator = test_rescale.flow_from_directory(\n",
    "    'D:/archive/cell_images/test',\n",
    "    target_size=(224, 224),\n",
    "    batch_size=32,\n",
    "    class_mode='binary'\n",
    ")\n",
    "\n",
    "# Evaluate the model on the test set\n",
    "loss, accuracy = model_resnet.evaluate(test_generator)\n",
    "\n",
    "print(f\"Test Loss: {loss}\")\n",
    "print(f\"Test Accuracy: {accuracy}\")"
   ]
  },
  {
   "cell_type": "code",
   "execution_count": 15,
   "id": "8c048f77-5628-4e45-bd28-0490fce8bf45",
   "metadata": {},
   "outputs": [
    {
     "data": {
      "image/png": "[encoded data removed]",
      "text/plain": [
       "<Figure size 640x480 with 1 Axes>"
      ]
     },
     "metadata": {},
     "output_type": "display_data"
    }
   ],
   "source": [
    "# plot the loss\n",
    "plt.plot(train_resnet.history['loss'], label='train loss')\n",
    "plt.plot(train_resnet.history['val_loss'], label='val loss')\n",
    "plt.legend()\n",
    "plt.show()\n",
    "#plt.savefig('LossVal_loss')"
   ]
  },
  {
   "cell_type": "code",
   "execution_count": 16,
   "id": "dabc58a5-e7df-4d64-9690-ee29d86e53ce",
   "metadata": {},
   "outputs": [
    {
     "data": {
      "image/png": "[encoded data removed]",
      "text/plain": [
       "<Figure size 640x480 with 1 Axes>"
      ]
     },
     "metadata": {},
     "output_type": "display_data"
    }
   ],
   "source": [
    "# plot the accuracy\n",
    "plt.plot(train_resnet.history['accuracy'], label='train acc')\n",
    "plt.plot(train_resnet.history['val_accuracy'], label='val acc')\n",
    "plt.legend()\n",
    "plt.show()"
   ]
  },
  {
   "cell_type": "code",
   "execution_count": 19,
   "id": "b6561ee9-1197-4263-8d03-ab977a486199",
   "metadata": {},
   "outputs": [
    {
     "name": "stderr",
     "output_type": "stream",
     "text": [
      "C:\\Users\\Win 10 Pro\\AppData\\Local\\Programs\\Python\\Python311\\Lib\\site-packages\\keras\\src\\engine\\training.py:3103: UserWarning: You are saving your model as an HDF5 file via `model.save()`. This file format is considered legacy. We recommend using instead the native Keras format, e.g. `model.save('my_model.keras')`.\n",
      "  saving_api.save_model(\n"
     ]
    }
   ],
   "source": [
    "# save this model as h5 file\n",
    "\n",
    "model_resnet.save('resnet_model.h5')"
   ]
  },
  {
   "cell_type": "code",
   "execution_count": 17,
   "id": "7993dbf6-822a-4bdb-a020-d73e6ca9fd7b",
   "metadata": {},
   "outputs": [
    {
     "name": "stdout",
     "output_type": "stream",
     "text": [
      "173/173 [==============================] - 386s 2s/step\n"
     ]
    },
    {
     "data": {
      "text/plain": [
       "array([[9.9050035e-10],\n",
       "       [3.1402654e-09],\n",
       "       [2.0102453e-09],\n",
       "       ...,\n",
       "       [1.8177547e-09],\n",
       "       [2.3440190e-09],\n",
       "       [1.3457179e-09]], dtype=float32)"
      ]
     },
     "execution_count": 17,
     "metadata": {},
     "output_type": "execute_result"
    }
   ],
   "source": [
    "y_pred = model_resnet.predict(test_generator)\n",
    "y_pred"
   ]
  },
  {
   "cell_type": "code",
   "execution_count": 50,
   "id": "4519ea1d-9939-42f1-8376-b66f5c89ec61",
   "metadata": {},
   "outputs": [
    {
     "data": {
      "text/plain": [
       "0"
      ]
     },
     "execution_count": 50,
     "metadata": {},
     "output_type": "execute_result"
    }
   ],
   "source": [
    "y_pred = np.argmax(y_pred)\n",
    "y_pred"
   ]
  },
  {
   "cell_type": "code",
   "execution_count": 51,
   "id": "58f60252-8a60-4356-8cc6-3d2254db52d5",
   "metadata": {},
   "outputs": [],
   "source": [
    "from tensorflow.keras.models import load_model\n",
    "from tensorflow.keras.preprocessing import image\n",
    "from tensorflow.keras.applications.resnet50 import preprocess_input"
   ]
  },
  {
   "cell_type": "code",
   "execution_count": 52,
   "id": "4b2dec2b-d7d0-4d35-95f1-9cb2b2f5c728",
   "metadata": {},
   "outputs": [],
   "source": [
    "model_res=load_model('resnet_model.h5')"
   ]
  },
  {
   "cell_type": "code",
   "execution_count": 53,
   "id": "fed9c529-d7d9-4c3a-a4d6-8b6ec659a51c",
   "metadata": {},
   "outputs": [
    {
     "data": {
      "text/plain": [
       "array([[[0., 0., 0.],\n",
       "        [0., 0., 0.],\n",
       "        [0., 0., 0.],\n",
       "        ...,\n",
       "        [0., 0., 0.],\n",
       "        [0., 0., 0.],\n",
       "        [0., 0., 0.]],\n",
       "\n",
       "       [[0., 0., 0.],\n",
       "        [0., 0., 0.],\n",
       "        [0., 0., 0.],\n",
       "        ...,\n",
       "        [0., 0., 0.],\n",
       "        [0., 0., 0.],\n",
       "        [0., 0., 0.]],\n",
       "\n",
       "       [[0., 0., 0.],\n",
       "        [0., 0., 0.],\n",
       "        [0., 0., 0.],\n",
       "        ...,\n",
       "        [0., 0., 0.],\n",
       "        [0., 0., 0.],\n",
       "        [0., 0., 0.]],\n",
       "\n",
       "       ...,\n",
       "\n",
       "       [[0., 0., 0.],\n",
       "        [0., 0., 0.],\n",
       "        [0., 0., 0.],\n",
       "        ...,\n",
       "        [0., 0., 0.],\n",
       "        [0., 0., 0.],\n",
       "        [0., 0., 0.]],\n",
       "\n",
       "       [[0., 0., 0.],\n",
       "        [0., 0., 0.],\n",
       "        [0., 0., 0.],\n",
       "        ...,\n",
       "        [0., 0., 0.],\n",
       "        [0., 0., 0.],\n",
       "        [0., 0., 0.]],\n",
       "\n",
       "       [[0., 0., 0.],\n",
       "        [0., 0., 0.],\n",
       "        [0., 0., 0.],\n",
       "        ...,\n",
       "        [0., 0., 0.],\n",
       "        [0., 0., 0.],\n",
       "        [0., 0., 0.]]], dtype=float32)"
      ]
     },
     "execution_count": 53,
     "metadata": {},
     "output_type": "execute_result"
    }
   ],
   "source": [
    "sample_img=image.load_img('D:/archive/cell_images/Uninfected/C99P60ThinF_IMG_20150918_141001_cell_60.png',target_size=(224,224))\n",
    "x=image.img_to_array(sample_img)\n",
    "x"
   ]
  },
  {
   "cell_type": "code",
   "execution_count": 54,
   "id": "016d931c-63e7-4e61-a81b-ee883b35f16b",
   "metadata": {},
   "outputs": [],
   "source": [
    "x = x/255"
   ]
  },
  {
   "cell_type": "code",
   "execution_count": 55,
   "id": "8eb399c3-8098-487c-8798-de4f990be84c",
   "metadata": {},
   "outputs": [
    {
     "data": {
      "text/plain": [
       "(1, 224, 224, 3)"
      ]
     },
     "execution_count": 55,
     "metadata": {},
     "output_type": "execute_result"
    }
   ],
   "source": [
    "x = np.expand_dims(x,axis=0)\n",
    "img_data = preprocess_input(x)\n",
    "img_data.shape"
   ]
  },
  {
   "cell_type": "code",
   "execution_count": 56,
   "id": "e5033cf5-0b5d-48bb-a3fc-b22b4e0e9f12",
   "metadata": {},
   "outputs": [
    {
     "name": "stdout",
     "output_type": "stream",
     "text": [
      "1/1 [==============================] - 2s 2s/step\n"
     ]
    },
    {
     "data": {
      "text/plain": [
       "array([[4.607309e-07]], dtype=float32)"
      ]
     },
     "execution_count": 56,
     "metadata": {},
     "output_type": "execute_result"
    }
   ],
   "source": [
    "model_res.predict(img_data)"
   ]
  },
  {
   "cell_type": "code",
   "execution_count": 57,
   "id": "d20f86a0-6b6a-4de1-92ed-3bef3bf37329",
   "metadata": {},
   "outputs": [
    {
     "name": "stdout",
     "output_type": "stream",
     "text": [
      "1/1 [==============================] - 0s 159ms/step\n"
     ]
    }
   ],
   "source": [
    "a=np.argmax(model_res.predict(img_data), axis=1)"
   ]
  },
  {
   "cell_type": "code",
   "execution_count": 58,
   "id": "608afe8a-9ceb-4152-bb9c-bdcf5fef244f",
   "metadata": {},
   "outputs": [
    {
     "name": "stdout",
     "output_type": "stream",
     "text": [
      "Uninfected\n"
     ]
    }
   ],
   "source": [
    "if(a==1):\n",
    "    print(\"Infected\")\n",
    "else:\n",
    "    print(\"Uninfected\")"
   ]
  },
  {
   "cell_type": "code",
   "execution_count": null,
   "id": "9825184e-4904-4027-8e7d-2595daf0f35c",
   "metadata": {},
   "outputs": [],
   "source": []
  }
 ],
 "metadata": {
  "kernelspec": {
   "display_name": "Python 3 (ipykernel)",
   "language": "python",
   "name": "python3"
  },
  "language_info": {
   "codemirror_mode": {
    "name": "ipython",
    "version": 3
   },
   "file_extension": ".py",
   "mimetype": "text/x-python",
   "name": "python",
   "nbconvert_exporter": "python",
   "pygments_lexer": "ipython3",
   "version": "3.11.1"
  }
 },
 "nbformat": 4,
 "nbformat_minor": 5
}
